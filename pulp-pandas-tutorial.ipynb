{
 "cells": [
  {
   "cell_type": "markdown",
   "metadata": {
    "deletable": true,
    "editable": true
   },
   "source": [
    "<h1>BSP412 -- Using PuLP with pandas</h1>"
   ]
  },
  {
   "cell_type": "markdown",
   "metadata": {},
   "source": [
    "<p>pandas is a Python library for data manipulation. It is useful whenever you need to read data from external files and make it readable for Python functions. In this tutorial we first use pandas to read external data into a useable format and then show how PuLP can be used to solve a special kind of an LP problem, a scheduling problem.</p>\n",
    "<p>The useable format in this case is an object called a data frame. You will run into data frames if you study other languages that are popular among data scientists, such as R. A data frame presents data grouped in rows and columns. </p>"
   ]
  },
  {
   "cell_type": "code",
   "execution_count": 1,
   "metadata": {
    "collapsed": false,
    "deletable": true,
    "editable": true
   },
   "outputs": [],
   "source": [
    "# http://benalexkeen.com/linear-programming-with-python-and-pulp-part-5/\n",
    "import pandas as pd\n",
    "import pulp\n",
    "\n",
    "# pandas is not included in jupyter http://nikgrozev.com/2015/12/27/pandas-in-jupyter-quickstart-and-useful-snippets/"
   ]
  },
  {
   "cell_type": "markdown",
   "metadata": {
    "deletable": true,
    "editable": true
   },
   "source": [
    "<p>Let us read the csv (comma separated file type) data into a data frame that is convenient to handle in Python functions.</p>\n",
    "<p>We group the data that is read from the csv file to months and factories.</p>"
   ]
  },
  {
   "cell_type": "code",
   "execution_count": 2,
   "metadata": {
    "collapsed": false,
    "deletable": true,
    "editable": true
   },
   "outputs": [],
   "source": [
    "factories = pd.DataFrame.from_csv('factory_variables.csv', index_col=['Month', 'Factory'])\n",
    "demand = pd.DataFrame.from_csv('monthly_demand.csv', index_col=['Month'])"
   ]
  },
  {
   "cell_type": "markdown",
   "metadata": {
    "collapsed": true,
    "deletable": true,
    "editable": true
   },
   "source": [
    "<p>The data shows that we have 2 factories and we know what are the monthly capacities and costs of each factory:</p>"
   ]
  },
  {
   "cell_type": "code",
   "execution_count": 3,
   "metadata": {
    "collapsed": false
   },
   "outputs": [
    {
     "data": {
      "text/html": [
       "<div>\n",
       "<style>\n",
       "    .dataframe thead tr:only-child th {\n",
       "        text-align: right;\n",
       "    }\n",
       "\n",
       "    .dataframe thead th {\n",
       "        text-align: left;\n",
       "    }\n",
       "\n",
       "    .dataframe tbody tr th {\n",
       "        vertical-align: top;\n",
       "    }\n",
       "</style>\n",
       "<table border=\"1\" class=\"dataframe\">\n",
       "  <thead>\n",
       "    <tr style=\"text-align: right;\">\n",
       "      <th></th>\n",
       "      <th></th>\n",
       "      <th>Max_Capacity</th>\n",
       "      <th>Min_Capacity</th>\n",
       "      <th>Variable_Costs</th>\n",
       "      <th>Fixed_Costs</th>\n",
       "    </tr>\n",
       "    <tr>\n",
       "      <th>Month</th>\n",
       "      <th>Factory</th>\n",
       "      <th></th>\n",
       "      <th></th>\n",
       "      <th></th>\n",
       "      <th></th>\n",
       "    </tr>\n",
       "  </thead>\n",
       "  <tbody>\n",
       "    <tr>\n",
       "      <th rowspan=\"2\" valign=\"top\">1</th>\n",
       "      <th>A</th>\n",
       "      <td>100000</td>\n",
       "      <td>20000</td>\n",
       "      <td>10</td>\n",
       "      <td>500</td>\n",
       "    </tr>\n",
       "    <tr>\n",
       "      <th>B</th>\n",
       "      <td>50000</td>\n",
       "      <td>20000</td>\n",
       "      <td>5</td>\n",
       "      <td>600</td>\n",
       "    </tr>\n",
       "    <tr>\n",
       "      <th rowspan=\"2\" valign=\"top\">2</th>\n",
       "      <th>A</th>\n",
       "      <td>110000</td>\n",
       "      <td>20000</td>\n",
       "      <td>11</td>\n",
       "      <td>500</td>\n",
       "    </tr>\n",
       "    <tr>\n",
       "      <th>B</th>\n",
       "      <td>55000</td>\n",
       "      <td>20000</td>\n",
       "      <td>4</td>\n",
       "      <td>600</td>\n",
       "    </tr>\n",
       "    <tr>\n",
       "      <th rowspan=\"2\" valign=\"top\">3</th>\n",
       "      <th>A</th>\n",
       "      <td>120000</td>\n",
       "      <td>20000</td>\n",
       "      <td>12</td>\n",
       "      <td>500</td>\n",
       "    </tr>\n",
       "    <tr>\n",
       "      <th>B</th>\n",
       "      <td>60000</td>\n",
       "      <td>20000</td>\n",
       "      <td>3</td>\n",
       "      <td>600</td>\n",
       "    </tr>\n",
       "    <tr>\n",
       "      <th rowspan=\"2\" valign=\"top\">4</th>\n",
       "      <th>A</th>\n",
       "      <td>145000</td>\n",
       "      <td>20000</td>\n",
       "      <td>9</td>\n",
       "      <td>500</td>\n",
       "    </tr>\n",
       "    <tr>\n",
       "      <th>B</th>\n",
       "      <td>100000</td>\n",
       "      <td>20000</td>\n",
       "      <td>5</td>\n",
       "      <td>600</td>\n",
       "    </tr>\n",
       "    <tr>\n",
       "      <th rowspan=\"2\" valign=\"top\">5</th>\n",
       "      <th>A</th>\n",
       "      <td>160000</td>\n",
       "      <td>20000</td>\n",
       "      <td>8</td>\n",
       "      <td>500</td>\n",
       "    </tr>\n",
       "    <tr>\n",
       "      <th>B</th>\n",
       "      <td>0</td>\n",
       "      <td>0</td>\n",
       "      <td>0</td>\n",
       "      <td>0</td>\n",
       "    </tr>\n",
       "    <tr>\n",
       "      <th rowspan=\"2\" valign=\"top\">6</th>\n",
       "      <th>A</th>\n",
       "      <td>140000</td>\n",
       "      <td>20000</td>\n",
       "      <td>8</td>\n",
       "      <td>500</td>\n",
       "    </tr>\n",
       "    <tr>\n",
       "      <th>B</th>\n",
       "      <td>70000</td>\n",
       "      <td>20000</td>\n",
       "      <td>6</td>\n",
       "      <td>600</td>\n",
       "    </tr>\n",
       "    <tr>\n",
       "      <th rowspan=\"2\" valign=\"top\">7</th>\n",
       "      <th>A</th>\n",
       "      <td>155000</td>\n",
       "      <td>20000</td>\n",
       "      <td>5</td>\n",
       "      <td>500</td>\n",
       "    </tr>\n",
       "    <tr>\n",
       "      <th>B</th>\n",
       "      <td>60000</td>\n",
       "      <td>20000</td>\n",
       "      <td>4</td>\n",
       "      <td>600</td>\n",
       "    </tr>\n",
       "    <tr>\n",
       "      <th rowspan=\"2\" valign=\"top\">8</th>\n",
       "      <th>A</th>\n",
       "      <td>200000</td>\n",
       "      <td>20000</td>\n",
       "      <td>7</td>\n",
       "      <td>500</td>\n",
       "    </tr>\n",
       "    <tr>\n",
       "      <th>B</th>\n",
       "      <td>100000</td>\n",
       "      <td>20000</td>\n",
       "      <td>6</td>\n",
       "      <td>600</td>\n",
       "    </tr>\n",
       "    <tr>\n",
       "      <th rowspan=\"2\" valign=\"top\">9</th>\n",
       "      <th>A</th>\n",
       "      <td>210000</td>\n",
       "      <td>20000</td>\n",
       "      <td>9</td>\n",
       "      <td>500</td>\n",
       "    </tr>\n",
       "    <tr>\n",
       "      <th>B</th>\n",
       "      <td>100000</td>\n",
       "      <td>20000</td>\n",
       "      <td>8</td>\n",
       "      <td>600</td>\n",
       "    </tr>\n",
       "    <tr>\n",
       "      <th rowspan=\"2\" valign=\"top\">10</th>\n",
       "      <th>A</th>\n",
       "      <td>197000</td>\n",
       "      <td>20000</td>\n",
       "      <td>10</td>\n",
       "      <td>500</td>\n",
       "    </tr>\n",
       "    <tr>\n",
       "      <th>B</th>\n",
       "      <td>100000</td>\n",
       "      <td>20000</td>\n",
       "      <td>11</td>\n",
       "      <td>600</td>\n",
       "    </tr>\n",
       "    <tr>\n",
       "      <th rowspan=\"2\" valign=\"top\">11</th>\n",
       "      <th>A</th>\n",
       "      <td>80000</td>\n",
       "      <td>20000</td>\n",
       "      <td>8</td>\n",
       "      <td>500</td>\n",
       "    </tr>\n",
       "    <tr>\n",
       "      <th>B</th>\n",
       "      <td>120000</td>\n",
       "      <td>20000</td>\n",
       "      <td>10</td>\n",
       "      <td>600</td>\n",
       "    </tr>\n",
       "    <tr>\n",
       "      <th rowspan=\"2\" valign=\"top\">12</th>\n",
       "      <th>A</th>\n",
       "      <td>150000</td>\n",
       "      <td>20000</td>\n",
       "      <td>8</td>\n",
       "      <td>500</td>\n",
       "    </tr>\n",
       "    <tr>\n",
       "      <th>B</th>\n",
       "      <td>150000</td>\n",
       "      <td>20000</td>\n",
       "      <td>12</td>\n",
       "      <td>600</td>\n",
       "    </tr>\n",
       "  </tbody>\n",
       "</table>\n",
       "</div>"
      ],
      "text/plain": [
       "               Max_Capacity  Min_Capacity  Variable_Costs  Fixed_Costs\n",
       "Month Factory                                                         \n",
       "1     A              100000         20000              10          500\n",
       "      B               50000         20000               5          600\n",
       "2     A              110000         20000              11          500\n",
       "      B               55000         20000               4          600\n",
       "3     A              120000         20000              12          500\n",
       "      B               60000         20000               3          600\n",
       "4     A              145000         20000               9          500\n",
       "      B              100000         20000               5          600\n",
       "5     A              160000         20000               8          500\n",
       "      B                   0             0               0            0\n",
       "6     A              140000         20000               8          500\n",
       "      B               70000         20000               6          600\n",
       "7     A              155000         20000               5          500\n",
       "      B               60000         20000               4          600\n",
       "8     A              200000         20000               7          500\n",
       "      B              100000         20000               6          600\n",
       "9     A              210000         20000               9          500\n",
       "      B              100000         20000               8          600\n",
       "10    A              197000         20000              10          500\n",
       "      B              100000         20000              11          600\n",
       "11    A               80000         20000               8          500\n",
       "      B              120000         20000              10          600\n",
       "12    A              150000         20000               8          500\n",
       "      B              150000         20000              12          600"
      ]
     },
     "execution_count": 3,
     "metadata": {},
     "output_type": "execute_result"
    }
   ],
   "source": [
    "factories"
   ]
  },
  {
   "cell_type": "markdown",
   "metadata": {},
   "source": [
    "<p>As you can see, factory B is in maintenance on month 5.</p>\n",
    "\n",
    "<p>We also know the demands for our products for each month (this is also a data frame albeit a very simple one):</p>"
   ]
  },
  {
   "cell_type": "code",
   "execution_count": 4,
   "metadata": {
    "collapsed": false
   },
   "outputs": [
    {
     "data": {
      "text/html": [
       "<div>\n",
       "<style>\n",
       "    .dataframe thead tr:only-child th {\n",
       "        text-align: right;\n",
       "    }\n",
       "\n",
       "    .dataframe thead th {\n",
       "        text-align: left;\n",
       "    }\n",
       "\n",
       "    .dataframe tbody tr th {\n",
       "        vertical-align: top;\n",
       "    }\n",
       "</style>\n",
       "<table border=\"1\" class=\"dataframe\">\n",
       "  <thead>\n",
       "    <tr style=\"text-align: right;\">\n",
       "      <th></th>\n",
       "      <th>Demand</th>\n",
       "    </tr>\n",
       "    <tr>\n",
       "      <th>Month</th>\n",
       "      <th></th>\n",
       "    </tr>\n",
       "  </thead>\n",
       "  <tbody>\n",
       "    <tr>\n",
       "      <th>1</th>\n",
       "      <td>120000</td>\n",
       "    </tr>\n",
       "    <tr>\n",
       "      <th>2</th>\n",
       "      <td>100000</td>\n",
       "    </tr>\n",
       "    <tr>\n",
       "      <th>3</th>\n",
       "      <td>130000</td>\n",
       "    </tr>\n",
       "    <tr>\n",
       "      <th>4</th>\n",
       "      <td>130000</td>\n",
       "    </tr>\n",
       "    <tr>\n",
       "      <th>5</th>\n",
       "      <td>140000</td>\n",
       "    </tr>\n",
       "    <tr>\n",
       "      <th>6</th>\n",
       "      <td>130000</td>\n",
       "    </tr>\n",
       "    <tr>\n",
       "      <th>7</th>\n",
       "      <td>150000</td>\n",
       "    </tr>\n",
       "    <tr>\n",
       "      <th>8</th>\n",
       "      <td>170000</td>\n",
       "    </tr>\n",
       "    <tr>\n",
       "      <th>9</th>\n",
       "      <td>200000</td>\n",
       "    </tr>\n",
       "    <tr>\n",
       "      <th>10</th>\n",
       "      <td>190000</td>\n",
       "    </tr>\n",
       "    <tr>\n",
       "      <th>11</th>\n",
       "      <td>140000</td>\n",
       "    </tr>\n",
       "    <tr>\n",
       "      <th>12</th>\n",
       "      <td>100000</td>\n",
       "    </tr>\n",
       "  </tbody>\n",
       "</table>\n",
       "</div>"
      ],
      "text/plain": [
       "       Demand\n",
       "Month        \n",
       "1      120000\n",
       "2      100000\n",
       "3      130000\n",
       "4      130000\n",
       "5      140000\n",
       "6      130000\n",
       "7      150000\n",
       "8      170000\n",
       "9      200000\n",
       "10     190000\n",
       "11     140000\n",
       "12     100000"
      ]
     },
     "execution_count": 4,
     "metadata": {},
     "output_type": "execute_result"
    }
   ],
   "source": [
    "demand"
   ]
  },
  {
   "cell_type": "markdown",
   "metadata": {},
   "source": [
    "<p>Because we have information on costs, we clearly have a minimisation problem at hand. Therefore a sensible decision variable would be to indicate whether a factory is in production or not. However, as we can vary the production in each factory within the given limits, we can also have a decision variable on how much to produce in each factory.</p>\n",
    "<p>In the below code, we write production as an integer variable with only a lower bound of 0, and factory status as a binary variable (i.e. with value 0 or 1).</p>"
   ]
  },
  {
   "cell_type": "code",
   "execution_count": 15,
   "metadata": {
    "collapsed": true
   },
   "outputs": [],
   "source": [
    "production = pulp.LpVariable.dicts(\"production\",\n",
    "                                     ((month, factory) for month, factory in factories.index),\n",
    "                                     lowBound=0,\n",
    "                                     cat='Integer')\n",
    "factorystatus = pulp.LpVariable.dicts(\"factorystatus\",\n",
    "                                     ((month, factory) for month, factory in factories.index),\n",
    "                                     cat='Binary')\n"
   ]
  },
  {
   "cell_type": "markdown",
   "metadata": {},
   "source": [
    "<p>Then we tell PuLP what to do in the LP problem.</p>"
   ]
  },
  {
   "cell_type": "code",
   "execution_count": 16,
   "metadata": {
    "collapsed": true
   },
   "outputs": [],
   "source": [
    "schedulingproblem = pulp.LpProblem(\"Scheduling problem with cost minimisation\", pulp.LpMinimize)"
   ]
  },
  {
   "cell_type": "markdown",
   "metadata": {},
   "source": [
    "<p>The objective function consists of costs that are to be minimised. The total fixed costs are equal to the factory status (0 not working, 1 working) times the fixed costs, summed over all months. The total variable costs are equal to the production times the variable costs, summed over all months.</p>\n",
    "<p>We now add the objective function into the model.</p>"
   ]
  },
  {
   "cell_type": "code",
   "execution_count": 17,
   "metadata": {
    "collapsed": false
   },
   "outputs": [],
   "source": [
    "schedulingproblem += pulp.lpSum(\n",
    "    [production[month, factory] * factories.loc[(month, factory), 'Variable_Costs'] for month, factory in factories.index]\n",
    "    + [factorystatus[month, factory] * factories.loc[(month, factory), 'Fixed_Costs'] for month, factory in factories.index]\n",
    ")"
   ]
  },
  {
   "cell_type": "markdown",
   "metadata": {},
   "source": [
    "<p>We then add constraints into the model. These say that each month production must include demand.</p>"
   ]
  },
  {
   "cell_type": "code",
   "execution_count": 18,
   "metadata": {
    "collapsed": true
   },
   "outputs": [],
   "source": [
    "months = demand.index\n",
    "for month in months:\n",
    "    schedulingproblem += production[(month, 'A')] + production[(month, 'B')] == demand.loc[month, 'Demand']"
   ]
  },
  {
   "cell_type": "markdown",
   "metadata": {},
   "source": [
    "<p>We also need to tell PuLP that production must not exceed the maximum capacity or be less than the minimum capacity, and that if the factory status is 0, then production must be 0 as well.</p>"
   ]
  },
  {
   "cell_type": "code",
   "execution_count": 19,
   "metadata": {
    "collapsed": true
   },
   "outputs": [],
   "source": [
    "# Production in any month must be between minimum and maximum capacity, or zero.\n",
    "for month, factory in factories.index:\n",
    "    min_production = factories.loc[(month, factory), 'Min_Capacity']\n",
    "    max_production = factories.loc[(month, factory), 'Max_Capacity']\n",
    "    schedulingproblem += production[(month, factory)] >= min_production * factorystatus[month, factory]\n",
    "    schedulingproblem += production[(month, factory)] <= max_production * factorystatus[month, factory]"
   ]
  },
  {
   "cell_type": "markdown",
   "metadata": {},
   "source": [
    "<p>Final constraint is that factory B is off in month 5. This constraint is directly for both decision variables (status and production).</p>"
   ]
  },
  {
   "cell_type": "code",
   "execution_count": 20,
   "metadata": {
    "collapsed": true
   },
   "outputs": [],
   "source": [
    "model += factorystatus[5, 'B'] == 0\n",
    "model += production[5, 'B'] == 0"
   ]
  },
  {
   "cell_type": "markdown",
   "metadata": {},
   "source": [
    "<p>This is what the problem looks like now:</p>"
   ]
  },
  {
   "cell_type": "code",
   "execution_count": 21,
   "metadata": {
    "collapsed": false,
    "scrolled": true
   },
   "outputs": [
    {
     "data": {
      "text/plain": [
       "Scheduling problem with cost minimisation:\n",
       "MINIMIZE\n",
       "500*factorystatus_(1,_'A') + 600*factorystatus_(1,_'B') + 500*factorystatus_(10,_'A') + 600*factorystatus_(10,_'B') + 500*factorystatus_(11,_'A') + 600*factorystatus_(11,_'B') + 500*factorystatus_(12,_'A') + 600*factorystatus_(12,_'B') + 500*factorystatus_(2,_'A') + 600*factorystatus_(2,_'B') + 500*factorystatus_(3,_'A') + 600*factorystatus_(3,_'B') + 500*factorystatus_(4,_'A') + 600*factorystatus_(4,_'B') + 500*factorystatus_(5,_'A') + 500*factorystatus_(6,_'A') + 600*factorystatus_(6,_'B') + 500*factorystatus_(7,_'A') + 600*factorystatus_(7,_'B') + 500*factorystatus_(8,_'A') + 600*factorystatus_(8,_'B') + 500*factorystatus_(9,_'A') + 600*factorystatus_(9,_'B') + 10*production_(1,_'A') + 5*production_(1,_'B') + 10*production_(10,_'A') + 11*production_(10,_'B') + 8*production_(11,_'A') + 10*production_(11,_'B') + 8*production_(12,_'A') + 12*production_(12,_'B') + 11*production_(2,_'A') + 4*production_(2,_'B') + 12*production_(3,_'A') + 3*production_(3,_'B') + 9*production_(4,_'A') + 5*production_(4,_'B') + 8*production_(5,_'A') + 8*production_(6,_'A') + 6*production_(6,_'B') + 5*production_(7,_'A') + 4*production_(7,_'B') + 7*production_(8,_'A') + 6*production_(8,_'B') + 9*production_(9,_'A') + 8*production_(9,_'B') + 0\n",
       "SUBJECT TO\n",
       "_C1: production_(1,_'A') + production_(1,_'B') = 120000\n",
       "\n",
       "_C2: production_(2,_'A') + production_(2,_'B') = 100000\n",
       "\n",
       "_C3: production_(3,_'A') + production_(3,_'B') = 130000\n",
       "\n",
       "_C4: production_(4,_'A') + production_(4,_'B') = 130000\n",
       "\n",
       "_C5: production_(5,_'A') + production_(5,_'B') = 140000\n",
       "\n",
       "_C6: production_(6,_'A') + production_(6,_'B') = 130000\n",
       "\n",
       "_C7: production_(7,_'A') + production_(7,_'B') = 150000\n",
       "\n",
       "_C8: production_(8,_'A') + production_(8,_'B') = 170000\n",
       "\n",
       "_C9: production_(9,_'A') + production_(9,_'B') = 200000\n",
       "\n",
       "_C10: production_(10,_'A') + production_(10,_'B') = 190000\n",
       "\n",
       "_C11: production_(11,_'A') + production_(11,_'B') = 140000\n",
       "\n",
       "_C12: production_(12,_'A') + production_(12,_'B') = 100000\n",
       "\n",
       "_C13: - 20000 factorystatus_(1,_'A') + production_(1,_'A') >= 0\n",
       "\n",
       "_C14: - 100000 factorystatus_(1,_'A') + production_(1,_'A') <= 0\n",
       "\n",
       "_C15: - 20000 factorystatus_(1,_'B') + production_(1,_'B') >= 0\n",
       "\n",
       "_C16: - 50000 factorystatus_(1,_'B') + production_(1,_'B') <= 0\n",
       "\n",
       "_C17: - 20000 factorystatus_(2,_'A') + production_(2,_'A') >= 0\n",
       "\n",
       "_C18: - 110000 factorystatus_(2,_'A') + production_(2,_'A') <= 0\n",
       "\n",
       "_C19: - 20000 factorystatus_(2,_'B') + production_(2,_'B') >= 0\n",
       "\n",
       "_C20: - 55000 factorystatus_(2,_'B') + production_(2,_'B') <= 0\n",
       "\n",
       "_C21: - 20000 factorystatus_(3,_'A') + production_(3,_'A') >= 0\n",
       "\n",
       "_C22: - 120000 factorystatus_(3,_'A') + production_(3,_'A') <= 0\n",
       "\n",
       "_C23: - 20000 factorystatus_(3,_'B') + production_(3,_'B') >= 0\n",
       "\n",
       "_C24: - 60000 factorystatus_(3,_'B') + production_(3,_'B') <= 0\n",
       "\n",
       "_C25: - 20000 factorystatus_(4,_'A') + production_(4,_'A') >= 0\n",
       "\n",
       "_C26: - 145000 factorystatus_(4,_'A') + production_(4,_'A') <= 0\n",
       "\n",
       "_C27: - 20000 factorystatus_(4,_'B') + production_(4,_'B') >= 0\n",
       "\n",
       "_C28: - 100000 factorystatus_(4,_'B') + production_(4,_'B') <= 0\n",
       "\n",
       "_C29: - 20000 factorystatus_(5,_'A') + production_(5,_'A') >= 0\n",
       "\n",
       "_C30: - 160000 factorystatus_(5,_'A') + production_(5,_'A') <= 0\n",
       "\n",
       "_C31: production_(5,_'B') >= 0\n",
       "\n",
       "_C32: production_(5,_'B') <= 0\n",
       "\n",
       "_C33: - 20000 factorystatus_(6,_'A') + production_(6,_'A') >= 0\n",
       "\n",
       "_C34: - 140000 factorystatus_(6,_'A') + production_(6,_'A') <= 0\n",
       "\n",
       "_C35: - 20000 factorystatus_(6,_'B') + production_(6,_'B') >= 0\n",
       "\n",
       "_C36: - 70000 factorystatus_(6,_'B') + production_(6,_'B') <= 0\n",
       "\n",
       "_C37: - 20000 factorystatus_(7,_'A') + production_(7,_'A') >= 0\n",
       "\n",
       "_C38: - 155000 factorystatus_(7,_'A') + production_(7,_'A') <= 0\n",
       "\n",
       "_C39: - 20000 factorystatus_(7,_'B') + production_(7,_'B') >= 0\n",
       "\n",
       "_C40: - 60000 factorystatus_(7,_'B') + production_(7,_'B') <= 0\n",
       "\n",
       "_C41: - 20000 factorystatus_(8,_'A') + production_(8,_'A') >= 0\n",
       "\n",
       "_C42: - 200000 factorystatus_(8,_'A') + production_(8,_'A') <= 0\n",
       "\n",
       "_C43: - 20000 factorystatus_(8,_'B') + production_(8,_'B') >= 0\n",
       "\n",
       "_C44: - 100000 factorystatus_(8,_'B') + production_(8,_'B') <= 0\n",
       "\n",
       "_C45: - 20000 factorystatus_(9,_'A') + production_(9,_'A') >= 0\n",
       "\n",
       "_C46: - 210000 factorystatus_(9,_'A') + production_(9,_'A') <= 0\n",
       "\n",
       "_C47: - 20000 factorystatus_(9,_'B') + production_(9,_'B') >= 0\n",
       "\n",
       "_C48: - 100000 factorystatus_(9,_'B') + production_(9,_'B') <= 0\n",
       "\n",
       "_C49: - 20000 factorystatus_(10,_'A') + production_(10,_'A') >= 0\n",
       "\n",
       "_C50: - 197000 factorystatus_(10,_'A') + production_(10,_'A') <= 0\n",
       "\n",
       "_C51: - 20000 factorystatus_(10,_'B') + production_(10,_'B') >= 0\n",
       "\n",
       "_C52: - 100000 factorystatus_(10,_'B') + production_(10,_'B') <= 0\n",
       "\n",
       "_C53: - 20000 factorystatus_(11,_'A') + production_(11,_'A') >= 0\n",
       "\n",
       "_C54: - 80000 factorystatus_(11,_'A') + production_(11,_'A') <= 0\n",
       "\n",
       "_C55: - 20000 factorystatus_(11,_'B') + production_(11,_'B') >= 0\n",
       "\n",
       "_C56: - 120000 factorystatus_(11,_'B') + production_(11,_'B') <= 0\n",
       "\n",
       "_C57: - 20000 factorystatus_(12,_'A') + production_(12,_'A') >= 0\n",
       "\n",
       "_C58: - 150000 factorystatus_(12,_'A') + production_(12,_'A') <= 0\n",
       "\n",
       "_C59: - 20000 factorystatus_(12,_'B') + production_(12,_'B') >= 0\n",
       "\n",
       "_C60: - 150000 factorystatus_(12,_'B') + production_(12,_'B') <= 0\n",
       "\n",
       "VARIABLES\n",
       "0 <= factorystatus_(1,_'A') <= 1 Integer\n",
       "0 <= factorystatus_(1,_'B') <= 1 Integer\n",
       "0 <= factorystatus_(10,_'A') <= 1 Integer\n",
       "0 <= factorystatus_(10,_'B') <= 1 Integer\n",
       "0 <= factorystatus_(11,_'A') <= 1 Integer\n",
       "0 <= factorystatus_(11,_'B') <= 1 Integer\n",
       "0 <= factorystatus_(12,_'A') <= 1 Integer\n",
       "0 <= factorystatus_(12,_'B') <= 1 Integer\n",
       "0 <= factorystatus_(2,_'A') <= 1 Integer\n",
       "0 <= factorystatus_(2,_'B') <= 1 Integer\n",
       "0 <= factorystatus_(3,_'A') <= 1 Integer\n",
       "0 <= factorystatus_(3,_'B') <= 1 Integer\n",
       "0 <= factorystatus_(4,_'A') <= 1 Integer\n",
       "0 <= factorystatus_(4,_'B') <= 1 Integer\n",
       "0 <= factorystatus_(5,_'A') <= 1 Integer\n",
       "0 <= factorystatus_(6,_'A') <= 1 Integer\n",
       "0 <= factorystatus_(6,_'B') <= 1 Integer\n",
       "0 <= factorystatus_(7,_'A') <= 1 Integer\n",
       "0 <= factorystatus_(7,_'B') <= 1 Integer\n",
       "0 <= factorystatus_(8,_'A') <= 1 Integer\n",
       "0 <= factorystatus_(8,_'B') <= 1 Integer\n",
       "0 <= factorystatus_(9,_'A') <= 1 Integer\n",
       "0 <= factorystatus_(9,_'B') <= 1 Integer\n",
       "0 <= production_(1,_'A') Integer\n",
       "0 <= production_(1,_'B') Integer\n",
       "0 <= production_(10,_'A') Integer\n",
       "0 <= production_(10,_'B') Integer\n",
       "0 <= production_(11,_'A') Integer\n",
       "0 <= production_(11,_'B') Integer\n",
       "0 <= production_(12,_'A') Integer\n",
       "0 <= production_(12,_'B') Integer\n",
       "0 <= production_(2,_'A') Integer\n",
       "0 <= production_(2,_'B') Integer\n",
       "0 <= production_(3,_'A') Integer\n",
       "0 <= production_(3,_'B') Integer\n",
       "0 <= production_(4,_'A') Integer\n",
       "0 <= production_(4,_'B') Integer\n",
       "0 <= production_(5,_'A') Integer\n",
       "0 <= production_(5,_'B') Integer\n",
       "0 <= production_(6,_'A') Integer\n",
       "0 <= production_(6,_'B') Integer\n",
       "0 <= production_(7,_'A') Integer\n",
       "0 <= production_(7,_'B') Integer\n",
       "0 <= production_(8,_'A') Integer\n",
       "0 <= production_(8,_'B') Integer\n",
       "0 <= production_(9,_'A') Integer\n",
       "0 <= production_(9,_'B') Integer"
      ]
     },
     "execution_count": 21,
     "metadata": {},
     "output_type": "execute_result"
    }
   ],
   "source": [
    "schedulingproblem"
   ]
  },
  {
   "cell_type": "markdown",
   "metadata": {},
   "source": [
    "<p>And now we can solve it.</p>"
   ]
  },
  {
   "cell_type": "code",
   "execution_count": 23,
   "metadata": {
    "collapsed": false
   },
   "outputs": [
    {
     "data": {
      "text/plain": [
       "'Optimal'"
      ]
     },
     "execution_count": 23,
     "metadata": {},
     "output_type": "execute_result"
    }
   ],
   "source": [
    "schedulingproblem.solve()\n",
    "pulp.LpStatus[schedulingproblem.status]"
   ]
  },
  {
   "cell_type": "markdown",
   "metadata": {},
   "source": [
    "<p>We see that, for example, factory A produces 70000 units in month 1, which is 70% of its max capacity.</p>"
   ]
  },
  {
   "cell_type": "code",
   "execution_count": 26,
   "metadata": {
    "collapsed": false
   },
   "outputs": [
    {
     "data": {
      "text/plain": [
       "70000.0"
      ]
     },
     "execution_count": 26,
     "metadata": {},
     "output_type": "execute_result"
    }
   ],
   "source": [
    "production[1,'A'].varValue"
   ]
  },
  {
   "cell_type": "markdown",
   "metadata": {},
   "source": [
    "<p>And here is a way to automate the display of the production schedule via pandas data frames. Basically, we just loop over months and factories and write the varValue outputs into a neat data frame.</p>"
   ]
  },
  {
   "cell_type": "code",
   "execution_count": 27,
   "metadata": {
    "collapsed": false
   },
   "outputs": [
    {
     "data": {
      "text/html": [
       "<div>\n",
       "<style>\n",
       "    .dataframe thead tr:only-child th {\n",
       "        text-align: right;\n",
       "    }\n",
       "\n",
       "    .dataframe thead th {\n",
       "        text-align: left;\n",
       "    }\n",
       "\n",
       "    .dataframe tbody tr th {\n",
       "        vertical-align: top;\n",
       "    }\n",
       "</style>\n",
       "<table border=\"1\" class=\"dataframe\">\n",
       "  <thead>\n",
       "    <tr style=\"text-align: right;\">\n",
       "      <th></th>\n",
       "      <th></th>\n",
       "      <th>Factory Status</th>\n",
       "      <th>Production</th>\n",
       "    </tr>\n",
       "    <tr>\n",
       "      <th>Month</th>\n",
       "      <th>Factory</th>\n",
       "      <th></th>\n",
       "      <th></th>\n",
       "    </tr>\n",
       "  </thead>\n",
       "  <tbody>\n",
       "    <tr>\n",
       "      <th rowspan=\"2\" valign=\"top\">1</th>\n",
       "      <th>A</th>\n",
       "      <td>1.0</td>\n",
       "      <td>70000.0</td>\n",
       "    </tr>\n",
       "    <tr>\n",
       "      <th>B</th>\n",
       "      <td>1.0</td>\n",
       "      <td>50000.0</td>\n",
       "    </tr>\n",
       "    <tr>\n",
       "      <th rowspan=\"2\" valign=\"top\">2</th>\n",
       "      <th>A</th>\n",
       "      <td>1.0</td>\n",
       "      <td>45000.0</td>\n",
       "    </tr>\n",
       "    <tr>\n",
       "      <th>B</th>\n",
       "      <td>1.0</td>\n",
       "      <td>55000.0</td>\n",
       "    </tr>\n",
       "    <tr>\n",
       "      <th rowspan=\"2\" valign=\"top\">3</th>\n",
       "      <th>A</th>\n",
       "      <td>1.0</td>\n",
       "      <td>70000.0</td>\n",
       "    </tr>\n",
       "    <tr>\n",
       "      <th>B</th>\n",
       "      <td>1.0</td>\n",
       "      <td>60000.0</td>\n",
       "    </tr>\n",
       "    <tr>\n",
       "      <th rowspan=\"2\" valign=\"top\">4</th>\n",
       "      <th>A</th>\n",
       "      <td>1.0</td>\n",
       "      <td>30000.0</td>\n",
       "    </tr>\n",
       "    <tr>\n",
       "      <th>B</th>\n",
       "      <td>1.0</td>\n",
       "      <td>100000.0</td>\n",
       "    </tr>\n",
       "    <tr>\n",
       "      <th rowspan=\"2\" valign=\"top\">5</th>\n",
       "      <th>A</th>\n",
       "      <td>1.0</td>\n",
       "      <td>140000.0</td>\n",
       "    </tr>\n",
       "    <tr>\n",
       "      <th>B</th>\n",
       "      <td>NaN</td>\n",
       "      <td>0.0</td>\n",
       "    </tr>\n",
       "    <tr>\n",
       "      <th rowspan=\"2\" valign=\"top\">6</th>\n",
       "      <th>A</th>\n",
       "      <td>1.0</td>\n",
       "      <td>60000.0</td>\n",
       "    </tr>\n",
       "    <tr>\n",
       "      <th>B</th>\n",
       "      <td>1.0</td>\n",
       "      <td>70000.0</td>\n",
       "    </tr>\n",
       "    <tr>\n",
       "      <th rowspan=\"2\" valign=\"top\">7</th>\n",
       "      <th>A</th>\n",
       "      <td>1.0</td>\n",
       "      <td>90000.0</td>\n",
       "    </tr>\n",
       "    <tr>\n",
       "      <th>B</th>\n",
       "      <td>1.0</td>\n",
       "      <td>60000.0</td>\n",
       "    </tr>\n",
       "    <tr>\n",
       "      <th rowspan=\"2\" valign=\"top\">8</th>\n",
       "      <th>A</th>\n",
       "      <td>1.0</td>\n",
       "      <td>70000.0</td>\n",
       "    </tr>\n",
       "    <tr>\n",
       "      <th>B</th>\n",
       "      <td>1.0</td>\n",
       "      <td>100000.0</td>\n",
       "    </tr>\n",
       "    <tr>\n",
       "      <th rowspan=\"2\" valign=\"top\">9</th>\n",
       "      <th>A</th>\n",
       "      <td>1.0</td>\n",
       "      <td>100000.0</td>\n",
       "    </tr>\n",
       "    <tr>\n",
       "      <th>B</th>\n",
       "      <td>1.0</td>\n",
       "      <td>100000.0</td>\n",
       "    </tr>\n",
       "    <tr>\n",
       "      <th rowspan=\"2\" valign=\"top\">10</th>\n",
       "      <th>A</th>\n",
       "      <td>1.0</td>\n",
       "      <td>190000.0</td>\n",
       "    </tr>\n",
       "    <tr>\n",
       "      <th>B</th>\n",
       "      <td>0.0</td>\n",
       "      <td>0.0</td>\n",
       "    </tr>\n",
       "    <tr>\n",
       "      <th rowspan=\"2\" valign=\"top\">11</th>\n",
       "      <th>A</th>\n",
       "      <td>1.0</td>\n",
       "      <td>80000.0</td>\n",
       "    </tr>\n",
       "    <tr>\n",
       "      <th>B</th>\n",
       "      <td>1.0</td>\n",
       "      <td>60000.0</td>\n",
       "    </tr>\n",
       "    <tr>\n",
       "      <th rowspan=\"2\" valign=\"top\">12</th>\n",
       "      <th>A</th>\n",
       "      <td>1.0</td>\n",
       "      <td>100000.0</td>\n",
       "    </tr>\n",
       "    <tr>\n",
       "      <th>B</th>\n",
       "      <td>0.0</td>\n",
       "      <td>0.0</td>\n",
       "    </tr>\n",
       "  </tbody>\n",
       "</table>\n",
       "</div>"
      ],
      "text/plain": [
       "               Factory Status  Production\n",
       "Month Factory                            \n",
       "1     A                   1.0     70000.0\n",
       "      B                   1.0     50000.0\n",
       "2     A                   1.0     45000.0\n",
       "      B                   1.0     55000.0\n",
       "3     A                   1.0     70000.0\n",
       "      B                   1.0     60000.0\n",
       "4     A                   1.0     30000.0\n",
       "      B                   1.0    100000.0\n",
       "5     A                   1.0    140000.0\n",
       "      B                   NaN         0.0\n",
       "6     A                   1.0     60000.0\n",
       "      B                   1.0     70000.0\n",
       "7     A                   1.0     90000.0\n",
       "      B                   1.0     60000.0\n",
       "8     A                   1.0     70000.0\n",
       "      B                   1.0    100000.0\n",
       "9     A                   1.0    100000.0\n",
       "      B                   1.0    100000.0\n",
       "10    A                   1.0    190000.0\n",
       "      B                   0.0         0.0\n",
       "11    A                   1.0     80000.0\n",
       "      B                   1.0     60000.0\n",
       "12    A                   1.0    100000.0\n",
       "      B                   0.0         0.0"
      ]
     },
     "execution_count": 27,
     "metadata": {},
     "output_type": "execute_result"
    }
   ],
   "source": [
    "output = []\n",
    "for month, factory in production:\n",
    "    var_output = {\n",
    "        'Month': month,\n",
    "        'Factory': factory,\n",
    "        'Production': production[(month, factory)].varValue,\n",
    "        'Factory Status': factorystatus[(month, factory)].varValue\n",
    "    }\n",
    "    output.append(var_output)\n",
    "output_df = pd.DataFrame.from_records(output).sort_values(['Month', 'Factory'])\n",
    "output_df.set_index(['Month', 'Factory'], inplace=True)\n",
    "output_df"
   ]
  },
  {
   "cell_type": "markdown",
   "metadata": {},
   "source": [
    "<p>The total costs are:</p>"
   ]
  },
  {
   "cell_type": "code",
   "execution_count": 30,
   "metadata": {
    "collapsed": false
   },
   "outputs": [
    {
     "data": {
      "text/plain": [
       "12906400.0"
      ]
     },
     "execution_count": 30,
     "metadata": {},
     "output_type": "execute_result"
    }
   ],
   "source": [
    "pulp.value(schedulingproblem.objective)"
   ]
  },
  {
   "cell_type": "code",
   "execution_count": null,
   "metadata": {
    "collapsed": true
   },
   "outputs": [],
   "source": []
  }
 ],
 "metadata": {
  "kernelspec": {
   "display_name": "Python 3",
   "language": "python",
   "name": "python3"
  },
  "language_info": {
   "codemirror_mode": {
    "name": "ipython",
    "version": 3
   },
   "file_extension": ".py",
   "mimetype": "text/x-python",
   "name": "python",
   "nbconvert_exporter": "python",
   "pygments_lexer": "ipython3",
   "version": "3.5.2"
  }
 },
 "nbformat": 4,
 "nbformat_minor": 2
}
