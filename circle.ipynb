{
 "cells": [
  {
   "cell_type": "markdown",
   "metadata": {},
   "source": [
    "<h1>Simulate pi using Python</h1>"
   ]
  },
  {
   "cell_type": "code",
   "execution_count": 30,
   "metadata": {
    "collapsed": false
   },
   "outputs": [
    {
     "data": {
      "text/plain": [
       "0.79"
      ]
     },
     "execution_count": 30,
     "metadata": {},
     "output_type": "execute_result"
    }
   ],
   "source": [
    "import random, math   # we need the math package to calculate square root\n",
    "                      # and random package to generate random numbers\n",
    "\n",
    "\n",
    "iterations = 500\n",
    "circlepoints = 0\n",
    "for i in range(1,iterations):\n",
    "    xcoord = random.random()\n",
    "    ycoord = random.random()\n",
    "    # if the point is within distance r from centrepoint (0.5, 0.5), \n",
    "    # then it belongs to the circle; otherwise it only belongs to the square\n",
    "    if (math.sqrt((xcoord-.5)*(xcoord-.5)+(ycoord-.5)*(ycoord-.5))<=0.5):\n",
    "        circlepoints = circlepoints+1\n",
    "\n",
    "circlepoints/iterations"
   ]
  },
  {
   "cell_type": "code",
   "execution_count": null,
   "metadata": {
    "collapsed": true
   },
   "outputs": [],
   "source": []
  }
 ],
 "metadata": {
  "kernelspec": {
   "display_name": "Python 3",
   "language": "python",
   "name": "python3"
  },
  "language_info": {
   "codemirror_mode": {
    "name": "ipython",
    "version": 3
   },
   "file_extension": ".py",
   "mimetype": "text/x-python",
   "name": "python",
   "nbconvert_exporter": "python",
   "pygments_lexer": "ipython3",
   "version": "3.5.2"
  }
 },
 "nbformat": 4,
 "nbformat_minor": 2
}
