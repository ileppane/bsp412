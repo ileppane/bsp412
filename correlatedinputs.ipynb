{
 "cells": [
  {
   "cell_type": "markdown",
   "metadata": {},
   "source": [
    "<h1>Correlation of inputs</h1>"
   ]
  },
  {
   "cell_type": "code",
   "execution_count": 2,
   "metadata": {
    "collapsed": false
   },
   "outputs": [
    {
     "name": "stdout",
     "output_type": "stream",
     "text": [
      "Collecting scipy\n",
      "  Downloading scipy-1.0.0-cp35-cp35m-macosx_10_6_intel.macosx_10_9_intel.macosx_10_9_x86_64.macosx_10_10_intel.macosx_10_10_x86_64.whl (16.6MB)\n",
      "\u001b[K    100% |████████████████████████████████| 16.6MB 73kB/s eta 0:00:01\n",
      "\u001b[?25hRequirement already satisfied: numpy>=1.8.2 in /usr/local/lib/python3.5/site-packages (from scipy)\n",
      "Installing collected packages: scipy\n",
      "Successfully installed scipy-1.0.0\n"
     ]
    }
   ],
   "source": [
    "!pip install scipy"
   ]
  },
  {
   "cell_type": "code",
   "execution_count": 60,
   "metadata": {
    "collapsed": false
   },
   "outputs": [],
   "source": [
    "import numpy\n",
    "import scipy\n",
    "import scipy.linalg   # SciPy Linear Algebra Library"
   ]
  },
  {
   "cell_type": "code",
   "execution_count": 61,
   "metadata": {
    "collapsed": false
   },
   "outputs": [
    {
     "data": {
      "text/plain": [
       "array([[ 1. ,  0.4],\n",
       "       [ 0.4,  1. ]])"
      ]
     },
     "execution_count": 61,
     "metadata": {},
     "output_type": "execute_result"
    }
   ],
   "source": [
    "# this is the correlation matrix between the 2 random input variables\n",
    "K = scipy.array([[1,.4],[.4,1]])\n",
    "K"
   ]
  },
  {
   "cell_type": "code",
   "execution_count": 62,
   "metadata": {
    "collapsed": false
   },
   "outputs": [
    {
     "data": {
      "text/plain": [
       "array([[ 1.        ,  0.        ],\n",
       "       [ 0.4       ,  0.91651514]])"
      ]
     },
     "execution_count": 62,
     "metadata": {},
     "output_type": "execute_result"
    }
   ],
   "source": [
    "# this is their cholesky decomposition matrix\n",
    "G = scipy.linalg.cholesky(K, lower=True)\n",
    "G"
   ]
  },
  {
   "cell_type": "code",
   "execution_count": 63,
   "metadata": {
    "collapsed": false
   },
   "outputs": [
    {
     "data": {
      "text/plain": [
       "array([[ 1. ,  0.4],\n",
       "       [ 0.4,  1. ]])"
      ]
     },
     "execution_count": 63,
     "metadata": {},
     "output_type": "execute_result"
    }
   ],
   "source": [
    "# check that G really is the cholesky decomposition; numpy.dot() gives the matrix multiplication\n",
    "numpy.dot(G,G.transpose())"
   ]
  },
  {
   "cell_type": "code",
   "execution_count": 68,
   "metadata": {
    "collapsed": false
   },
   "outputs": [],
   "source": [
    "# monte carlo simulation\n",
    "profits = []\n",
    "for i in range(1,100000):\n",
    "    sales = numpy.random.normal(1200,250)\n",
    "    cm = numpy.random.normal(5,1)\n",
    "    cp = numpy.random.normal(2,.25)\n",
    "    tcm = numpy.dot(G,scipy.array([cm,cp]))[0]\n",
    "    tcp = numpy.dot(G,scipy.array([cm,cp]))[1]\n",
    "    profit = sales*(15-tcm-tcp-3)-4200\n",
    "    profits.append(profit)"
   ]
  },
  {
   "cell_type": "code",
   "execution_count": 69,
   "metadata": {
    "collapsed": false
   },
   "outputs": [
    {
     "data": {
      "text/plain": [
       "(array([  6.60000000e+01,   1.68500000e+03,   1.76140000e+04,\n",
       "          3.97610000e+04,   2.86770000e+04,   9.86700000e+03,\n",
       "          2.03400000e+03,   2.69000000e+02,   2.40000000e+01,\n",
       "          2.00000000e+00]),\n",
       " array([ -7904.55933923,  -5951.31325693,  -3998.06717463,  -2044.82109233,\n",
       "           -91.57501003,   1861.67107227,   3814.91715457,   5768.16323687,\n",
       "          7721.40931917,   9674.65540147,  11627.90148377]),\n",
       " <a list of 10 Patch objects>)"
      ]
     },
     "execution_count": 69,
     "metadata": {},
     "output_type": "execute_result"
    },
    {
     "data": {
      "image/png": "[encoded data removed]",
      "text/plain": [
       "<matplotlib.figure.Figure at 0x10cb41ba8>"
      ]
     },
     "metadata": {},
     "output_type": "display_data"
    }
   ],
   "source": [
    "import matplotlib.pyplot as plt\n",
    "%matplotlib inline\n",
    "plt.hist(profits)"
   ]
  },
  {
   "cell_type": "code",
   "execution_count": null,
   "metadata": {
    "collapsed": true
   },
   "outputs": [],
   "source": []
  }
 ],
 "metadata": {
  "kernelspec": {
   "display_name": "Python 3",
   "language": "python",
   "name": "python3"
  },
  "language_info": {
   "codemirror_mode": {
    "name": "ipython",
    "version": 3
   },
   "file_extension": ".py",
   "mimetype": "text/x-python",
   "name": "python",
   "nbconvert_exporter": "python",
   "pygments_lexer": "ipython3",
   "version": "3.5.2"
  }
 },
 "nbformat": 4,
 "nbformat_minor": 2
}
