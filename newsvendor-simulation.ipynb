{
 "cells": [
  {
   "cell_type": "markdown",
   "metadata": {
    "deletable": true,
    "editable": true
   },
   "source": [
    "<h1>Newsvendor simulation</h1>"
   ]
  },
  {
   "cell_type": "code",
   "execution_count": 1,
   "metadata": {
    "collapsed": true,
    "deletable": true,
    "editable": true
   },
   "outputs": [],
   "source": [
    "dmin=0\n",
    "dmax=300\n",
    "P=120\n",
    "C=30"
   ]
  },
  {
   "cell_type": "code",
   "execution_count": 2,
   "metadata": {
    "collapsed": false,
    "deletable": true,
    "editable": true
   },
   "outputs": [],
   "source": [
    "import numpy as np\n",
    "import random\n",
    "%matplotlib inline\n",
    "import matplotlib.pyplot as plt"
   ]
  },
  {
   "cell_type": "code",
   "execution_count": 3,
   "metadata": {
    "collapsed": false,
    "deletable": true,
    "editable": true
   },
   "outputs": [
    {
     "data": {
      "text/plain": [
       "(array([  12.,   23.,   25.,   20.,   19.,   24.,   28.,   23.,   21.,  304.]),\n",
       " array([ -3600.,  -2160.,   -720.,    720.,   2160.,   3600.,   5040.,\n",
       "          6480.,   7920.,   9360.,  10800.]),\n",
       " <a list of 10 Patch objects>)"
      ]
     },
     "execution_count": 3,
     "metadata": {},
     "output_type": "execute_result"
    },
    {
     "data": {
      "image/png": "[encoded data removed]",
      "text/plain": [
       "<matplotlib.figure.Figure at 0x10a146a20>"
      ]
     },
     "metadata": {},
     "output_type": "display_data"
    }
   ],
   "source": [
    "# let us create 500 realisations of profit with a fixed order quantity Q\n",
    "profits = []\n",
    "Q = 120\n",
    "for i in range(1,500):\n",
    "    D = random.randint(dmin,dmax)\n",
    "    if (Q>D):\n",
    "        profit = P*D-C*Q\n",
    "    else:\n",
    "        profit = P*Q-C*Q\n",
    "    profits.append(profit)\n",
    "\n",
    "plt.hist(profits)"
   ]
  },
  {
   "cell_type": "code",
   "execution_count": 4,
   "metadata": {
    "collapsed": false,
    "deletable": true,
    "editable": true
   },
   "outputs": [],
   "source": [
    "# function implementation\n",
    "def newsvendor(Q,N):\n",
    "    profits = []\n",
    "    for i in range(1,500):\n",
    "        D = random.randint(dmin,dmax)\n",
    "        if (Q>D):\n",
    "            profit = P*D-C*Q\n",
    "        else:\n",
    "            profit = P*Q-C*Q\n",
    "        profits.append(profit)\n",
    "    return profits"
   ]
  },
  {
   "cell_type": "code",
   "execution_count": 5,
   "metadata": {
    "collapsed": false,
    "deletable": true,
    "editable": true
   },
   "outputs": [],
   "source": [
    "# calculate the means over the simulated realisations with Q = 0, 20, 40,  ... , 300\n",
    "nwmeans = []\n",
    "for j in range(0,301,20):\n",
    "    nwmean = np.mean(newsvendor(j,500))\n",
    "    nwmeans.append(nwmean)"
   ]
  },
  {
   "cell_type": "code",
   "execution_count": 6,
   "metadata": {
    "collapsed": false,
    "deletable": true,
    "editable": true
   },
   "outputs": [
    {
     "data": {
      "text/plain": [
       "<matplotlib.text.Text at 0x10a2c9b00>"
      ]
     },
     "execution_count": 6,
     "metadata": {},
     "output_type": "execute_result"
    },
    {
     "data": {
      "image/png": "[encoded data removed]",
      "text/plain": [
       "<matplotlib.figure.Figure at 0x10a2855f8>"
      ]
     },
     "metadata": {},
     "output_type": "display_data"
    }
   ],
   "source": [
    "plt.bar(range(0,301,20),nwmeans,width=10)\n",
    "plt.xlabel(r'$Q$')\n",
    "plt.ylabel(r'Profit')"
   ]
  },
  {
   "cell_type": "code",
   "execution_count": null,
   "metadata": {
    "collapsed": true,
    "deletable": true,
    "editable": true
   },
   "outputs": [],
   "source": []
  }
 ],
 "metadata": {
  "kernelspec": {
   "display_name": "Python 3",
   "language": "python",
   "name": "python3"
  },
  "language_info": {
   "codemirror_mode": {
    "name": "ipython",
    "version": 3
   },
   "file_extension": ".py",
   "mimetype": "text/x-python",
   "name": "python",
   "nbconvert_exporter": "python",
   "pygments_lexer": "ipython3",
   "version": "3.5.2"
  }
 },
 "nbformat": 4,
 "nbformat_minor": 2
}
